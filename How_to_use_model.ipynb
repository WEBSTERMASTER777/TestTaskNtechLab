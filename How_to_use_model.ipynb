{
  "nbformat": 4,
  "nbformat_minor": 0,
  "metadata": {
    "colab": {
      "name": "How to use model.ipynb",
      "provenance": []
    },
    "kernelspec": {
      "name": "python3",
      "display_name": "Python 3"
    }
  },
  "cells": [
    {
      "cell_type": "markdown",
      "metadata": {
        "id": "Mq7K6A3UzCwV",
        "colab_type": "text"
      },
      "source": [
        "Клонируем удаленный репозиторий в локальную директорию"
      ]
    },
    {
      "cell_type": "code",
      "metadata": {
        "id": "aFxVr-vurj8S",
        "colab_type": "code",
        "colab": {
          "base_uri": "https://localhost:8080/",
          "height": 119
        },
        "outputId": "e26f9147-269e-465f-b59b-fb0194e38073"
      },
      "source": [
        "!git clone https://github.com/WEBSTERMASTER777/TestTaskNtechLab.git"
      ],
      "execution_count": 18,
      "outputs": [
        {
          "output_type": "stream",
          "text": [
            "Cloning into 'TestTaskNtechLab'...\n",
            "remote: Enumerating objects: 3, done.\u001b[K\n",
            "remote: Counting objects: 100% (3/3), done.\u001b[K\n",
            "remote: Compressing objects: 100% (2/2), done.\u001b[K\n",
            "remote: Total 23 (delta 0), reused 0 (delta 0), pack-reused 20\u001b[K\n",
            "Unpacking objects: 100% (23/23), done.\n"
          ],
          "name": "stdout"
        }
      ]
    },
    {
      "cell_type": "markdown",
      "metadata": {
        "id": "aACDiT3szNSj",
        "colab_type": "text"
      },
      "source": [
        "Устанавливаем небоходимые для запуска сети пакеты"
      ]
    },
    {
      "cell_type": "code",
      "metadata": {
        "id": "6XkcBfWHroH3",
        "colab_type": "code",
        "colab": {
          "base_uri": "https://localhost:8080/",
          "height": 241
        },
        "outputId": "76a0b4f6-cb30-455b-dbbf-10ee220ce007"
      },
      "source": [
        "!pip install -r requirements.txt"
      ],
      "execution_count": 35,
      "outputs": [
        {
          "output_type": "stream",
          "text": [
            "Requirement already satisfied: PyYAML==5.3 in /usr/local/lib/python3.6/dist-packages (from -r requirements.txt (line 1)) (5.3)\n",
            "Requirement already satisfied: facenet_pytorch in /usr/local/lib/python3.6/dist-packages (from -r requirements.txt (line 2)) (2.4.1)\n",
            "Requirement already satisfied: requests in /usr/local/lib/python3.6/dist-packages (from facenet_pytorch->-r requirements.txt (line 2)) (2.23.0)\n",
            "Requirement already satisfied: numpy in /usr/local/lib/python3.6/dist-packages (from facenet_pytorch->-r requirements.txt (line 2)) (1.18.5)\n",
            "Requirement already satisfied: torchvision in /usr/local/lib/python3.6/dist-packages (from facenet_pytorch->-r requirements.txt (line 2)) (0.7.0+cu101)\n",
            "Requirement already satisfied: pillow in /usr/local/lib/python3.6/dist-packages (from facenet_pytorch->-r requirements.txt (line 2)) (7.0.0)\n",
            "Requirement already satisfied: certifi>=2017.4.17 in /usr/local/lib/python3.6/dist-packages (from requests->facenet_pytorch->-r requirements.txt (line 2)) (2020.6.20)\n",
            "Requirement already satisfied: idna<3,>=2.5 in /usr/local/lib/python3.6/dist-packages (from requests->facenet_pytorch->-r requirements.txt (line 2)) (2.10)\n",
            "Requirement already satisfied: chardet<4,>=3.0.2 in /usr/local/lib/python3.6/dist-packages (from requests->facenet_pytorch->-r requirements.txt (line 2)) (3.0.4)\n",
            "Requirement already satisfied: urllib3!=1.25.0,!=1.25.1,<1.26,>=1.21.1 in /usr/local/lib/python3.6/dist-packages (from requests->facenet_pytorch->-r requirements.txt (line 2)) (1.24.3)\n",
            "Requirement already satisfied: torch==1.6.0 in /usr/local/lib/python3.6/dist-packages (from torchvision->facenet_pytorch->-r requirements.txt (line 2)) (1.6.0+cu101)\n",
            "Requirement already satisfied: future in /usr/local/lib/python3.6/dist-packages (from torch==1.6.0->torchvision->facenet_pytorch->-r requirements.txt (line 2)) (0.16.0)\n"
          ],
          "name": "stdout"
        }
      ]
    },
    {
      "cell_type": "markdown",
      "metadata": {
        "id": "AdAk2pwlzUW2",
        "colab_type": "text"
      },
      "source": [
        "Запускаем скрипт для получения резльтата модели, в качестве параметра для скрипта пишем путь к папке с изображниями, результат выполнения модели сохраняется в JSON файле ( имя файла указано в script_config.yaml)"
      ]
    },
    {
      "cell_type": "code",
      "metadata": {
        "id": "Y3FJxzd9r727",
        "colab_type": "code",
        "colab": {}
      },
      "source": [
        "!python3 test.py test/test_fold/"
      ],
      "execution_count": 20,
      "outputs": []
    }
  ]
}